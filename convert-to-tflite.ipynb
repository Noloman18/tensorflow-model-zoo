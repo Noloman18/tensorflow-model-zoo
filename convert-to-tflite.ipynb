{
 "cells": [
  {
   "cell_type": "code",
   "execution_count": 4,
   "metadata": {
    "pycharm": {
     "is_executing": true
    }
   },
   "outputs": [],
   "source": [
    "import tensorflow as tf\n",
    "import json"
   ]
  },
  {
   "cell_type": "code",
   "execution_count": 16,
   "metadata": {
    "pycharm": {
     "is_executing": true
    }
   },
   "outputs": [],
   "source": [
    "with open('workspace/road_damage/convert-config.json', 'r') as f:\n",
    "    CONFIGURATION = json.load(f)"
   ]
  },
  {
   "cell_type": "code",
   "execution_count": 19,
   "metadata": {
    "pycharm": {
     "is_executing": true
    }
   },
   "outputs": [
    {
     "name": "stderr",
     "output_type": "stream",
     "text": [
      "c:\\users\\letlhogonolo segoe\\pycharmprojects\\models\\my-goodness-experiments\\lib\\site-packages\\tensorflow\\lite\\python\\lite.py:921: UserWarning: Property post_training_quantize is deprecated, please use optimizations=[Optimize.DEFAULT] instead.\n",
      "  \" instead.\" % name)\n"
     ]
    },
    {
     "name": "stdout",
     "output_type": "stream",
     "text": [
      "Done\n"
     ]
    }
   ],
   "source": [
    "saved_model_dir = CONFIGURATION['ORIGINAL_MODEL_PATH']\n",
    "\n",
    "input_arrays=[\"image_tensor\"]\n",
    "output_arrays=[\"detection_boxes\",\"detection_scores\",\"num_detections\",\"detection_classes\"]\n",
    "input_tensor={\"image_tensor\":[1,300,300,3]}\n",
    "converter = tf.compat.v1.lite.TFLiteConverter.from_frozen_graph(saved_model_dir,input_shapes = {'normalized_input_image_tensor':[1,300,300,3]},\n",
    "input_arrays = ['normalized_input_image_tensor'],output_arrays = ['TFLite_Detection_PostProcess','TFLite_Detection_PostProcess:1',\n",
    "'TFLite_Detection_PostProcess:2','TFLite_Detection_PostProcess:3'])\n",
    "converter.allow_custom_ops=True\n",
    "converter.post_training_quantize=True \n",
    "quantized_model = converter.convert()\n",
    "open(CONFIGURATION['TFLITE_MODEL_PATH'], \"wb\").write(quantized_model)\n",
    "print('Done')"
   ]
  },
  {
   "cell_type": "code",
   "execution_count": null,
   "metadata": {
    "pycharm": {
     "is_executing": true
    }
   },
   "outputs": [],
   "source": []
  }
 ],
 "metadata": {
  "kernelspec": {
   "display_name": "Python 3",
   "language": "python",
   "name": "python3"
  },
  "language_info": {
   "codemirror_mode": {
    "name": "ipython",
    "version": 3
   },
   "file_extension": ".py",
   "mimetype": "text/x-python",
   "name": "python",
   "nbconvert_exporter": "python",
   "pygments_lexer": "ipython3",
   "version": "3.7.6"
  }
 },
 "nbformat": 4,
 "nbformat_minor": 1
}